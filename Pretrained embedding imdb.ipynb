{
 "cells": [
  {
   "cell_type": "code",
   "execution_count": 1,
   "metadata": {
    "collapsed": true
   },
   "outputs": [],
   "source": [
    "import os\n",
    "base_dir ='/Users/Rajiv/Desktop/ML/code/aclImdb'\n",
    "train_dir =os.path.join(base_dir ,'train')"
   ]
  },
  {
   "cell_type": "code",
   "execution_count": 2,
   "metadata": {
    "collapsed": true
   },
   "outputs": [],
   "source": [
    "labels =[]                       # creating empty list of output \n",
    "texts =[]                        # creating empty list for storing text"
   ]
  },
  {
   "cell_type": "code",
   "execution_count": 3,
   "metadata": {
    "collapsed": true
   },
   "outputs": [],
   "source": [
    "for label_type in ['neg' ,'pos']:\n",
    "    dir_name = os.path.join(train_dir ,label_type)       \n",
    "    for fname in os.listdir(dir_name):               # create a list of names in the directory of dir_name\n",
    "        if fname[-4:] == '.txt':                      # checking last four word is text file or not\n",
    "            f = open(os.path.join(dir_name ,fname) ,encoding=\"utf8\")\n",
    "            texts.append(f.read())                  # read and append the text in text list\n",
    "            f.close()\n",
    "            if label_type == 'neg':                 # creating real ouput for imdb datases\n",
    "                labels.append(0)\n",
    "            else:\n",
    "                labels.append(1)\n",
    "        \n",
    "    "
   ]
  },
  {
   "cell_type": "code",
   "execution_count": 18,
   "metadata": {},
   "outputs": [
    {
     "name": "stdout",
     "output_type": "stream",
     "text": [
      "Found 88582 unique tokens\n",
      "shape of data tensor (25000, 100)\n",
      "shape of labels (25000,)\n"
     ]
    }
   ],
   "source": [
    "from keras.preprocessing.text import Tokenizer\n",
    "from keras.preprocessing.sequence import pad_sequences\n",
    "import numpy as np\n",
    "maxlen = 100                                                      # cut off sequencess after 100th word\n",
    "max_words = 10000                                                  # considering only top 10000 word\n",
    "training_sample = 200                                              # since we are using pretrained embedding so it will work on smaller dataset\n",
    "validation_sample = 10000\n",
    "tokenizer = Tokenizer(num_words =max_words) \n",
    "tokenizer.fit_on_texts(texts)\n",
    "sequences = tokenizer.texts_to_sequences(texts)\n",
    "word_index = tokenizer.word_index\n",
    "print('Found %s unique tokens'%len(word_index))\n",
    "data = pad_sequences(sequences , maxlen =maxlen)\n",
    "labels = np.asarray(labels)\n",
    "print('shape of data tensor' ,data.shape)\n",
    "print('shape of labels' ,labels.shape)\n"
   ]
  },
  {
   "cell_type": "code",
   "execution_count": 19,
   "metadata": {
    "collapsed": true
   },
   "outputs": [],
   "source": [
    "indices = np.arange(data.shape[0])\n",
    "np.random.shuffle(indices)\n",
    "data =data[indices]\n",
    "labels = labels[indices]\n",
    "x_train =data[:training_sample]\n",
    "y_train = labels[:training_sample]\n",
    "x_val = data[training_sample:training_sample + validation_sample]\n",
    "y_val = labels[training_sample:training_sample +validation_sample]"
   ]
  },
  {
   "cell_type": "code",
   "execution_count": 30,
   "metadata": {
    "collapsed": true
   },
   "outputs": [],
   "source": [
    "glove_dir = r'\\Users\\Rajiv\\Desktop\\ML\\code\\glove.6B'\n",
    "f= open(os.path.join(glove_dir ,'glove.6B.100d.txt') ,encoding=\"utf8\")                   # will read the file and stored in it\n",
    "embeddings_index = {}                                                   # making a empty dictionary to store word and their embedding coefficient\n",
    "for line in f:\n",
    "    values = line.split()                                          # make a column for every word and their embedding coefficient\n",
    "    word = values[0]                                             # extracting word value\n",
    "    coefs = np.asarray(values[1:] ,dtype ='float')\n",
    "    embeddings_index[word] = coefs                               # storing word and coeffiecient in dictionary\n",
    "f.close()\n",
    "    "
   ]
  },
  {
   "cell_type": "code",
   "execution_count": 31,
   "metadata": {},
   "outputs": [
    {
     "name": "stdout",
     "output_type": "stream",
     "text": [
      "found 400000 word vectors\n"
     ]
    }
   ],
   "source": [
    "print('found %s word vectors' %len(embeddings_index))\n"
   ]
  },
  {
   "cell_type": "code",
   "execution_count": 12,
   "metadata": {},
   "outputs": [
    {
     "name": "stdout",
     "output_type": "stream",
     "text": [
      "shape  of embedding matrix (10000, 100)\n"
     ]
    }
   ],
   "source": [
    "# buildind a embedding matrx , shape->(max_word ,emd_dims)\n",
    "emd_dims =100                                                      # since we are using 100.d\n",
    "embedding_matrix = np.zeros((max_words ,emd_dims))              # only considering 10000 most common word\n",
    "for word , i in word_index.items():                            # return two things word from most common word and integer\n",
    "    if i < max_words:\n",
    "        embedding_vector = embeddings_index.get(word)        # return coef corresponding tro the word\n",
    "        if embedding_vector is not None:\n",
    "            embedding_matrix[i] = embedding_vector\n",
    "print('shape  of embedding matrix' ,embedding_matrix.shape)\n",
    "        "
   ]
  },
  {
   "cell_type": "code",
   "execution_count": 32,
   "metadata": {},
   "outputs": [
    {
     "name": "stdout",
     "output_type": "stream",
     "text": [
      "_________________________________________________________________\n",
      "Layer (type)                 Output Shape              Param #   \n",
      "=================================================================\n",
      "embedding_3 (Embedding)      (None, 100, 100)          1000000   \n",
      "_________________________________________________________________\n",
      "flatten_3 (Flatten)          (None, 10000)             0         \n",
      "_________________________________________________________________\n",
      "dense_5 (Dense)              (None, 32)                320032    \n",
      "_________________________________________________________________\n",
      "dense_6 (Dense)              (None, 1)                 33        \n",
      "=================================================================\n",
      "Total params: 1,320,065\n",
      "Trainable params: 1,320,065\n",
      "Non-trainable params: 0\n",
      "_________________________________________________________________\n"
     ]
    }
   ],
   "source": [
    "# defining model\n",
    "from keras.models import  Sequential\n",
    "from keras.layers import Flatten ,Dense ,Embedding\n",
    "model = Sequential()\n",
    "model.add(Embedding(max_words ,emd_dims ,input_length =maxlen))                 # will give 3D output\n",
    "model.add(Flatten())                                                            \n",
    "model.add(Dense(32 ,activation ='relu'))\n",
    "model.add(Dense(1 ,activation ='sigmoid'))\n",
    "model.summary()"
   ]
  },
  {
   "cell_type": "code",
   "execution_count": 33,
   "metadata": {
    "collapsed": true
   },
   "outputs": [],
   "source": [
    "#LOADING THE GLOVE EMBEDDINGS IN THE MODEL\n",
    "model.layers[0].set_weights([embedding_matrix])\n",
    "model.layers[0].trainable = False"
   ]
  },
  {
   "cell_type": "code",
   "execution_count": 34,
   "metadata": {},
   "outputs": [
    {
     "name": "stdout",
     "output_type": "stream",
     "text": [
      "Train on 200 samples, validate on 10000 samples\n",
      "Epoch 1/10\n",
      "200/200 [==============================] - 1s 4ms/step - loss: 2.2140 - acc: 0.5250 - val_loss: 0.7159 - val_acc: 0.4960\n",
      "Epoch 2/10\n",
      "200/200 [==============================] - 1s 3ms/step - loss: 0.6366 - acc: 0.6650 - val_loss: 0.7410 - val_acc: 0.4986\n",
      "Epoch 3/10\n",
      "200/200 [==============================] - 1s 4ms/step - loss: 0.4107 - acc: 0.7900 - val_loss: 1.0432 - val_acc: 0.4942\n",
      "Epoch 4/10\n",
      "200/200 [==============================] - 1s 3ms/step - loss: 0.4976 - acc: 0.7450 - val_loss: 0.7576 - val_acc: 0.5065\n",
      "Epoch 5/10\n",
      "200/200 [==============================] - 1s 4ms/step - loss: 0.1645 - acc: 0.9900 - val_loss: 0.7588 - val_acc: 0.5055\n",
      "Epoch 6/10\n",
      "200/200 [==============================] - 1s 4ms/step - loss: 0.1253 - acc: 0.9950 - val_loss: 0.9686 - val_acc: 0.5102\n",
      "Epoch 7/10\n",
      "200/200 [==============================] - 1s 4ms/step - loss: 0.4975 - acc: 0.7350 - val_loss: 0.8074 - val_acc: 0.5095\n",
      "Epoch 8/10\n",
      "200/200 [==============================] - 1s 4ms/step - loss: 0.0501 - acc: 1.0000 - val_loss: 0.8209 - val_acc: 0.5064\n",
      "Epoch 9/10\n",
      "200/200 [==============================] - 1s 4ms/step - loss: 0.0380 - acc: 1.0000 - val_loss: 0.8330 - val_acc: 0.5114\n",
      "Epoch 10/10\n",
      "200/200 [==============================] - 1s 3ms/step - loss: 0.0279 - acc: 1.0000 - val_loss: 0.9382 - val_acc: 0.5030\n"
     ]
    }
   ],
   "source": [
    "model.compile(optimizer ='rmsprop' ,loss= 'binary_crossentropy' ,metrics =['acc'])\n",
    "history = model.fit(x_train ,y_train ,epochs =10 ,batch_size =32 ,validation_data =(x_val ,y_val))"
   ]
  },
  {
   "cell_type": "code",
   "execution_count": 21,
   "metadata": {
    "collapsed": true
   },
   "outputs": [],
   "source": [
    "model.save_weights('pre_trained_glove_model.h5')"
   ]
  },
  {
   "cell_type": "code",
   "execution_count": 35,
   "metadata": {},
   "outputs": [
    {
     "data": {
      "image/png": "[encoded data removed]",
      "text/plain": [
       "<matplotlib.figure.Figure at 0x239e2d6d9b0>"
      ]
     },
     "metadata": {},
     "output_type": "display_data"
    },
    {
     "data": {
      "image/png": "[encoded data removed]",
      "text/plain": [
       "<matplotlib.figure.Figure at 0x239e2d78ac8>"
      ]
     },
     "metadata": {},
     "output_type": "display_data"
    }
   ],
   "source": [
    "import matplotlib.pyplot as plt\n",
    "acc = history.history['acc']\n",
    "val_acc = history.history['val_acc']\n",
    "loss = history.history['loss']\n",
    "val_loss = history.history['val_loss']\n",
    "epoch = range(1 ,len(acc) + 1)\n",
    "plt.plot(epoch ,acc ,'bo' ,label = 'training accuracy')\n",
    "plt.plot(epoch , val_acc ,'b-' ,label= 'validation accuracy')\n",
    "plt.xlabel('epochs')\n",
    "plt.ylabel('accuracy')\n",
    "plt.legend()\n",
    "plt.show()\n",
    "plt.plot(epoch ,loss ,'bo' ,label ='training loss')\n",
    "plt.plot(epoch ,val_loss ,'b-' ,label ='validation loss')\n",
    "plt.xlabel('epoch')\n",
    "plt.ylabel('loss')\n",
    "plt.legend()\n",
    "plt.show()"
   ]
  },
  {
   "cell_type": "code",
   "execution_count": 36,
   "metadata": {},
   "outputs": [
    {
     "name": "stdout",
     "output_type": "stream",
     "text": [
      "_________________________________________________________________\n",
      "Layer (type)                 Output Shape              Param #   \n",
      "=================================================================\n",
      "embedding_4 (Embedding)      (None, 100, 100)          1000000   \n",
      "_________________________________________________________________\n",
      "flatten_4 (Flatten)          (None, 10000)             0         \n",
      "_________________________________________________________________\n",
      "dense_7 (Dense)              (None, 32)                320032    \n",
      "_________________________________________________________________\n",
      "dense_8 (Dense)              (None, 1)                 33        \n",
      "=================================================================\n",
      "Total params: 1,320,065\n",
      "Trainable params: 1,320,065\n",
      "Non-trainable params: 0\n",
      "_________________________________________________________________\n",
      "Train on 200 samples, validate on 10000 samples\n",
      "Epoch 1/10\n",
      "200/200 [==============================] - 1s 6ms/step - loss: 0.6948 - acc: 0.4950 - val_loss: 0.6944 - val_acc: 0.4999\n",
      "Epoch 2/10\n",
      "200/200 [==============================] - 1s 4ms/step - loss: 0.5028 - acc: 0.9750 - val_loss: 0.7096 - val_acc: 0.4959\n",
      "Epoch 3/10\n",
      "200/200 [==============================] - 1s 5ms/step - loss: 0.2909 - acc: 0.9800 - val_loss: 0.7013 - val_acc: 0.5096\n",
      "Epoch 4/10\n",
      "200/200 [==============================] - 1s 4ms/step - loss: 0.1352 - acc: 1.0000 - val_loss: 0.7194 - val_acc: 0.4992\n",
      "Epoch 5/10\n",
      "200/200 [==============================] - 1s 4ms/step - loss: 0.0648 - acc: 1.0000 - val_loss: 0.7187 - val_acc: 0.4973\n",
      "Epoch 6/10\n",
      "200/200 [==============================] - 1s 4ms/step - loss: 0.0343 - acc: 1.0000 - val_loss: 0.7271 - val_acc: 0.4997\n",
      "Epoch 7/10\n",
      "200/200 [==============================] - 1s 4ms/step - loss: 0.0193 - acc: 1.0000 - val_loss: 0.7266 - val_acc: 0.5099\n",
      "Epoch 8/10\n",
      "200/200 [==============================] - 1s 4ms/step - loss: 0.0112 - acc: 1.0000 - val_loss: 0.7423 - val_acc: 0.5018\n",
      "Epoch 9/10\n",
      "200/200 [==============================] - 1s 5ms/step - loss: 0.0066 - acc: 1.0000 - val_loss: 0.7434 - val_acc: 0.5099\n",
      "Epoch 10/10\n",
      "200/200 [==============================] - 1s 4ms/step - loss: 0.0040 - acc: 1.0000 - val_loss: 0.7579 - val_acc: 0.5025\n"
     ]
    }
   ],
   "source": [
    "#Training the same model without pretrained word embeddings\n",
    "from keras.models import  Sequential\n",
    "from keras.layers import Flatten ,Dense ,Embedding\n",
    "model1 = Sequential()\n",
    "model1.add(Embedding(max_words ,emd_dims ,input_length =maxlen))                 # will give 3D output\n",
    "model1.add(Flatten())                                                            \n",
    "model1.add(Dense(32 ,activation ='relu'))\n",
    "model1.add(Dense(1 ,activation ='sigmoid'))\n",
    "model1.summary()\n",
    "model1.compile(optimizer ='rmsprop' ,loss= 'binary_crossentropy' ,metrics =['acc'])\n",
    "history1 = model1.fit(x_train ,y_train ,epochs =10 ,batch_size =32 ,validation_data =(x_val ,y_val))"
   ]
  },
  {
   "cell_type": "code",
   "execution_count": 37,
   "metadata": {},
   "outputs": [
    {
     "data": {
      "image/png": "[encoded data removed]",
      "text/plain": [
       "<matplotlib.figure.Figure at 0x239e2d6d978>"
      ]
     },
     "metadata": {},
     "output_type": "display_data"
    },
    {
     "data": {
      "image/png": "[encoded data removed]",
      "text/plain": [
       "<matplotlib.figure.Figure at 0x239e2d69b00>"
      ]
     },
     "metadata": {},
     "output_type": "display_data"
    }
   ],
   "source": [
    "acc = history1.history['acc']\n",
    "val_acc = history1.history['val_acc']\n",
    "loss = history1.history['loss']\n",
    "val_loss = history1.history['val_loss']\n",
    "epoch = range(1 ,len(acc) + 1)\n",
    "plt.plot(epoch ,acc ,'bo' ,label = 'training accuracy')\n",
    "plt.plot(epoch , val_acc ,'b-' ,label= 'validation accuracy')\n",
    "plt.xlabel('epochs')\n",
    "plt.ylabel('accuracy')\n",
    "plt.legend()\n",
    "plt.show()\n",
    "plt.plot(epoch ,loss ,'bo' ,label ='training loss')\n",
    "plt.plot(epoch ,val_loss ,'b-' ,label ='validation loss')\n",
    "plt.xlabel('epoch')\n",
    "plt.ylabel('loss')\n",
    "plt.legend()\n",
    "plt.show()"
   ]
  },
  {
   "cell_type": "code",
   "execution_count": null,
   "metadata": {
    "collapsed": true
   },
   "outputs": [],
   "source": []
  }
 ],
 "metadata": {
  "kernelspec": {
   "display_name": "Python 3",
   "language": "python",
   "name": "python3"
  },
  "language_info": {
   "codemirror_mode": {
    "name": "ipython",
    "version": 3
   },
   "file_extension": ".py",
   "mimetype": "text/x-python",
   "name": "python",
   "nbconvert_exporter": "python",
   "pygments_lexer": "ipython3",
   "version": "3.6.3"
  }
 },
 "nbformat": 4,
 "nbformat_minor": 2
}
