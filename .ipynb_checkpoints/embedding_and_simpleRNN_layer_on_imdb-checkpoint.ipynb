{
 "cells": [
  {
   "cell_type": "code",
   "execution_count": 1,
   "metadata": {},
   "outputs": [
    {
     "name": "stderr",
     "output_type": "stream",
     "text": [
      "C:\\Users\\Rajiv\\Anaconda3\\lib\\site-packages\\h5py\\__init__.py:34: FutureWarning: Conversion of the second argument of issubdtype from `float` to `np.floating` is deprecated. In future, it will be treated as `np.float64 == np.dtype(float).type`.\n",
      "  from ._conv import register_converters as _register_converters\n",
      "Using TensorFlow backend.\n"
     ]
    },
    {
     "name": "stdout",
     "output_type": "stream",
     "text": [
      "length of train sequence 25000\n",
      "length of test sequence 25000\n",
      "after padding\n",
      "shape of train sequences (25000, 500)\n",
      "shape of test sequences (25000, 500)\n"
     ]
    }
   ],
   "source": [
    "# importing dataset\n",
    "from keras.datasets import imdb\n",
    "from keras.preprocessing import sequence\n",
    "max_features =1000                                          # no of word considerd as a feature/vocabulary\n",
    "maxlen =500                                                 # maximum no of words in a sequence\n",
    "batch_size =32\n",
    "(x_train ,y_train) ,(x_test ,y_test) = imdb.load_data(num_words =max_features)\n",
    "print('length of train sequence' ,len(x_train))\n",
    "print('length of test sequence' ,len(x_test))\n",
    "print('after padding')\n",
    "x_train = sequence.pad_sequences(x_train ,maxlen =maxlen)\n",
    "x_test =  sequence.pad_sequences(x_test ,maxlen =maxlen)\n",
    "print('shape of train sequences' ,x_train.shape)\n",
    "print('shape of test sequences' ,x_test.shape)"
   ]
  },
  {
   "cell_type": "code",
   "execution_count": 2,
   "metadata": {},
   "outputs": [
    {
     "name": "stdout",
     "output_type": "stream",
     "text": [
      "_________________________________________________________________\n",
      "Layer (type)                 Output Shape              Param #   \n",
      "=================================================================\n",
      "embedding_1 (Embedding)      (None, None, 32)          32000     \n",
      "_________________________________________________________________\n",
      "simple_rnn_1 (SimpleRNN)     (None, 32)                2080      \n",
      "_________________________________________________________________\n",
      "dense_1 (Dense)              (None, 1)                 33        \n",
      "=================================================================\n",
      "Total params: 34,113\n",
      "Trainable params: 34,113\n",
      "Non-trainable params: 0\n",
      "_________________________________________________________________\n"
     ]
    }
   ],
   "source": [
    "# training model with Embedding and simple RNN\n",
    "from keras.models import Sequential\n",
    "from keras.layers import Dense ,SimpleRNN ,Embedding\n",
    "model = Sequential()\n",
    "model.add(Embedding(max_features ,32))\n",
    "model.add(SimpleRNN(32))\n",
    "model.add(Dense(1 ,activation ='sigmoid'))\n",
    "model.summary()"
   ]
  },
  {
   "cell_type": "code",
   "execution_count": 6,
   "metadata": {},
   "outputs": [
    {
     "name": "stdout",
     "output_type": "stream",
     "text": [
      "Train on 20000 samples, validate on 5000 samples\n",
      "Epoch 1/15\n",
      "20000/20000 [==============================] - 18s 903us/step - loss: 0.1468 - acc: 0.9494 - val_loss: 0.6498 - val_acc: 0.7962\n",
      "Epoch 2/15\n",
      "20000/20000 [==============================] - 20s 981us/step - loss: 0.1193 - acc: 0.9591 - val_loss: 0.7218 - val_acc: 0.7782\n",
      "Epoch 3/15\n",
      "20000/20000 [==============================] - 19s 965us/step - loss: 0.1137 - acc: 0.9624 - val_loss: 0.8781 - val_acc: 0.7412\n",
      "Epoch 4/15\n",
      "20000/20000 [==============================] - 19s 971us/step - loss: 0.1019 - acc: 0.9670 - val_loss: 0.7478 - val_acc: 0.7956\n",
      "Epoch 5/15\n",
      "20000/20000 [==============================] - 19s 967us/step - loss: 0.1007 - acc: 0.9666 - val_loss: 0.8755 - val_acc: 0.7448\n",
      "Epoch 6/15\n",
      "20000/20000 [==============================] - 20s 976us/step - loss: 0.0931 - acc: 0.9714 - val_loss: 0.8087 - val_acc: 0.7948\n",
      "Epoch 7/15\n",
      "20000/20000 [==============================] - 19s 954us/step - loss: 0.0906 - acc: 0.9710 - val_loss: 0.8862 - val_acc: 0.7706\n",
      "Epoch 8/15\n",
      "20000/20000 [==============================] - 19s 968us/step - loss: 0.0845 - acc: 0.9759 - val_loss: 0.9418 - val_acc: 0.7544\n",
      "Epoch 9/15\n",
      "20000/20000 [==============================] - 19s 964us/step - loss: 0.0850 - acc: 0.9737 - val_loss: 1.0188 - val_acc: 0.7528\n",
      "Epoch 10/15\n",
      "20000/20000 [==============================] - 20s 981us/step - loss: 0.0903 - acc: 0.9706 - val_loss: 0.9075 - val_acc: 0.7832\n",
      "Epoch 11/15\n",
      "20000/20000 [==============================] - 19s 970us/step - loss: 0.0830 - acc: 0.9731 - val_loss: 0.9362 - val_acc: 0.7710\n",
      "Epoch 12/15\n",
      "20000/20000 [==============================] - 20s 976us/step - loss: 0.0605 - acc: 0.9815 - val_loss: 1.0583 - val_acc: 0.7478\n",
      "Epoch 13/15\n",
      "20000/20000 [==============================] - 20s 995us/step - loss: 0.0600 - acc: 0.9811 - val_loss: 1.0763 - val_acc: 0.7536\n",
      "Epoch 14/15\n",
      "20000/20000 [==============================] - 19s 972us/step - loss: 0.0606 - acc: 0.9823 - val_loss: 1.0161 - val_acc: 0.7764\n",
      "Epoch 15/15\n",
      "20000/20000 [==============================] - 19s 975us/step - loss: 0.0613 - acc: 0.9820 - val_loss: 1.0338 - val_acc: 0.7800\n"
     ]
    }
   ],
   "source": [
    "model.compile(optimizer ='rmsprop' ,loss= 'binary_crossentropy' ,metrics =['acc'])\n",
    "history = model.fit(x_train ,y_train ,epochs =15 ,batch_size =128 ,validation_split =0.2)"
   ]
  },
  {
   "cell_type": "code",
   "execution_count": 7,
   "metadata": {},
   "outputs": [
    {
     "data": {
      "image/png": "[encoded data removed]",
      "text/plain": [
       "<matplotlib.figure.Figure at 0x1fa01cd9b70>"
      ]
     },
     "metadata": {},
     "output_type": "display_data"
    },
    {
     "data": {
      "image/png": "[encoded data removed]",
      "text/plain": [
       "<matplotlib.figure.Figure at 0x1fa023b4240>"
      ]
     },
     "metadata": {},
     "output_type": "display_data"
    }
   ],
   "source": [
    "# plotting the results\n",
    "import matplotlib.pyplot as plt\n",
    "acc = history.history['acc']\n",
    "val_acc = history.history['val_acc']\n",
    "loss = history.history['loss']\n",
    "val_loss = history.history['val_loss']\n",
    "epochs = range(1, len(acc) + 1)\n",
    "plt.plot(epochs, acc, 'bo', label='Training acc')\n",
    "plt.plot(epochs, val_acc, 'b', label='Validation acc')\n",
    "plt.title('Training and validation accuracy')\n",
    "plt.legend()\n",
    "plt.figure()\n",
    "plt.plot(epochs, loss, 'bo', label='Training loss')\n",
    "plt.plot(epochs, val_loss, 'b', label='Validation loss')\n",
    "plt.title('Training and validation loss')\n",
    "plt.legend()\n",
    "plt.show()"
   ]
  },
  {
   "cell_type": "markdown",
   "metadata": {},
   "source": [
    "maximum Validation accuracy we got is approx 80% ,reason behind this is following;"
   ]
  },
  {
   "cell_type": "markdown",
   "metadata": {},
   "source": [
    "inputs only consider the first 500 words, rather than full sequences—hence, the RNN has access to less information.\n",
    "The remainder of the problem is that SimpleRNN isn’t good at processing long sequences."
   ]
  },
  {
   "cell_type": "code",
   "execution_count": 5,
   "metadata": {},
   "outputs": [
    {
     "name": "stdout",
     "output_type": "stream",
     "text": [
      "Train on 20000 samples, validate on 5000 samples\n",
      "Epoch 1/10\n",
      "20000/20000 [==============================] - 54s 3ms/step - loss: 0.5485 - acc: 0.7169 - val_loss: 0.6671 - val_acc: 0.6848\n",
      "Epoch 2/10\n",
      "20000/20000 [==============================] - 53s 3ms/step - loss: 0.3975 - acc: 0.8267 - val_loss: 0.3489 - val_acc: 0.8546\n",
      "Epoch 3/10\n",
      "20000/20000 [==============================] - 53s 3ms/step - loss: 0.3646 - acc: 0.8460 - val_loss: 0.4813 - val_acc: 0.8074\n",
      "Epoch 4/10\n",
      "20000/20000 [==============================] - 53s 3ms/step - loss: 0.3448 - acc: 0.8555 - val_loss: 0.3306 - val_acc: 0.8636\n",
      "Epoch 5/10\n",
      "20000/20000 [==============================] - 53s 3ms/step - loss: 0.3370 - acc: 0.8620 - val_loss: 0.3782 - val_acc: 0.8506\n",
      "Epoch 6/10\n",
      "20000/20000 [==============================] - 52s 3ms/step - loss: 0.3240 - acc: 0.8649 - val_loss: 0.3501 - val_acc: 0.8562\n",
      "Epoch 7/10\n",
      "20000/20000 [==============================] - 53s 3ms/step - loss: 0.3182 - acc: 0.8705 - val_loss: 0.4434 - val_acc: 0.7984\n",
      "Epoch 8/10\n",
      "20000/20000 [==============================] - 53s 3ms/step - loss: 0.3138 - acc: 0.8695 - val_loss: 0.3536 - val_acc: 0.8502\n",
      "Epoch 9/10\n",
      "20000/20000 [==============================] - 53s 3ms/step - loss: 0.3083 - acc: 0.8710 - val_loss: 0.3530 - val_acc: 0.8482\n",
      "Epoch 10/10\n",
      "20000/20000 [==============================] - 53s 3ms/step - loss: 0.3017 - acc: 0.8772 - val_loss: 0.3554 - val_acc: 0.8514\n"
     ]
    }
   ],
   "source": [
    "from keras.layers import LSTM ,Embedding ,Dense\n",
    "from keras.models import Sequential\n",
    "model1 = Sequential()\n",
    "model1.add(Embedding(max_features ,32))\n",
    "model1.add(LSTM(32))\n",
    "model1.add(Dense(1 ,activation ='sigmoid'))\n",
    "model1.compile(optimizer ='rmsprop' ,loss ='binary_crossentropy' ,metrics =['acc'])\n",
    "history1 =model1.fit(x_train ,y_train ,epochs =10 ,batch_size =128 ,validation_split =0.2)"
   ]
  },
  {
   "cell_type": "code",
   "execution_count": null,
   "metadata": {
    "collapsed": true
   },
   "outputs": [],
   "source": []
  }
 ],
 "metadata": {
  "kernelspec": {
   "display_name": "Python 3",
   "language": "python",
   "name": "python3"
  },
  "language_info": {
   "codemirror_mode": {
    "name": "ipython",
    "version": 3
   },
   "file_extension": ".py",
   "mimetype": "text/x-python",
   "name": "python",
   "nbconvert_exporter": "python",
   "pygments_lexer": "ipython3",
   "version": "3.6.3"
  }
 },
 "nbformat": 4,
 "nbformat_minor": 2
}
